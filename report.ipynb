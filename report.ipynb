{
  "cells": [
    {
      "cell_type": "markdown",
      "metadata": {
        "id": "TQggtlLF-huA"
      },
      "source": [
        "# **파이썬 프로그래밍 기말 레포트**\n",
        "\n"
      ]
    },
    {
      "cell_type": "markdown",
      "metadata": {
        "id": "OtG7xx1d_S9S"
      },
      "source": [
        "레포트 유의 사항\n",
        "\n",
        "1. 레포트의 형식은 기말 시험과 유사하므로, 반드시 레포트를 수행해 볼 것\n",
        "1. 문제의 답안을 함수로 작성하되, 반드시 함수 이름은 문제에서 제시하는 함수명으로 할것 (함수명이 다르면 점수 획득 불가능)\n",
        "1. 각 문제의 답안은 답안 작성 셀에서 작성할 것\n",
        "1. 모든 문제는 함수의 매개변수 입력을 통해 데이터를 전달 받고, 결과를 반환하는 함수를 정의하는 것임 (주의: input()는 키보드 입력이며, 함수 입력이 아님, print()는 모니터에 출력하는 함수이며, 함수 반환이 아님)\n",
        "1. 함수의 입력과 반환 시 데이터 타입도 반드시 지킬것 (예: 문자열 반환이라는 문제에서는 반드시 문자열을 반환 해야함)\n",
        "1. 답안 제출은 함수가 정의된 부분만 제출하고, 나머지 코드는 지우고 제출할 것, 답안 제출시 input() 함수나 , print() 함수가 있으면 안됨\n",
        "1. 코드 작성이 끝난 파일은 개별적으로 함수를 호출해서 검수를 거쳐 정답이 맞는지 확인할 것\n",
        "1. 작성된 답안은 colab의 상단 메뉴의 파일--> 다운로드 --> .py 로 다운 받아 학교 LMS 에 제출할 것  ( .py 다운로드시 경고창이 뜨지만, 계속 버튼을 눌러 다운 할것)\n",
        "1. .py 가 학교 LMS 에 올라가지 않을경우 ZIP으로 압축하여 업로드 가능\n",
        "1. 파일의 이름은 자신의 학번.py      예) 학번이 2021111000 일 경우,     2021111000.py 파일을 제출\n",
        "1. 코드는 자동 채점이 되며, 코드가 정상적으로 돌아가면 100점, 제대로 된 계산을 못할 경우 60점, 코드 에러 30점의 점수가 부여됨\n",
        "1. 시험지 및 답안을 절대 유출 금지(타인 및 개인 블로그 포함)하며, 유출될 경우 불이익을 감수할 것\n",
        "1. 제출 기한을 넘겨 제출하는 것은 불가"
      ]
    },
    {
      "cell_type": "markdown",
      "metadata": {
        "id": "G8s27iEOeMOd"
      },
      "source": [
        "## 예시 문제 1) "
      ]
    },
    {
      "cell_type": "markdown",
      "metadata": {
        "id": "lhpvyiXLeu-1"
      },
      "source": [
        "\n",
        "<strong>* 하나의 정수를 함수의 입력으로 받아, 이 정수를 제곱 한 결과를 반환하는 함수를 작성하시오</strong>\n",
        "\n",
        "* 함수 이름: example<br>      (반드시 함수 이름을 example로 작성할것!!)\n",
        "\n",
        "* 예1) \n",
        " * 입력(정수) : 2 <br>\n",
        " * 반환(정수) : 4\n",
        "\n",
        " * 함수 입력 \n",
        "    ```\n",
        "    example(2)\n",
        "\n",
        "    ```\n",
        " * 함수 반환\n",
        "    ```\n",
        "    4\n",
        "\n",
        "    ```\n",
        "\n",
        "\n",
        "\n",
        "* 예2)\n",
        " * 입력(정수): 3 <br>\n",
        " * 반환(정수): 9\n",
        "\n",
        " * 함수 입력\n",
        "    ```\n",
        "    example(3)\n",
        "    ```\n",
        " * 함수 반환\n",
        "    ```\n",
        "    9\n",
        "\n",
        "    ```\n",
        "\n",
        "\n",
        "\n",
        "\n",
        "\n",
        "* 함수 작성 힌트 <br>\n",
        "\n",
        "\n",
        "```\n",
        "def example(a):\n",
        "    b = a의 제곱\n",
        "    return b\n",
        "```"
      ]
    },
    {
      "cell_type": "code",
      "execution_count": null,
      "metadata": {
        "id": "cb4AtnIZIGyA"
      },
      "outputs": [],
      "source": [
        "###### 예시 1번 문제 답안 작성 셀 ######\n",
        "\n"
      ]
    },
    {
      "cell_type": "markdown",
      "metadata": {
        "id": "X1GukuNA-vPR"
      },
      "source": [
        "## 레포트 문제 "
      ]
    },
    {
      "cell_type": "markdown",
      "metadata": {
        "id": "kK4fr_Gm5oCl"
      },
      "source": [
        "<strong>  체중과 키를 함수의 입력으로 차례대로 넣으면, BMI를 계산하여 저체중, 정상, 과체중인지를 구별하여 문자열로 반환하는 함수를 작성하시오.  </strong>\n",
        "\n",
        "단, BMI 계산 수식은 아래와 같으며, 계산 범위는 저체중, 정상, 과체중 3가지 범주라고 가정한다. \n",
        "\n",
        "``\n",
        "BMI  = 체중(kg) / (키(m) * 키(m))\n",
        "``\n",
        "\n",
        "|범주|범위|\n",
        "|------|---|\n",
        "|저체중|18.5 미만|\n",
        "|정상|18.5 - 22.9|\n",
        "|과체중|22.9 초과|\n",
        "\n",
        "\n",
        "* 함수 이름: bmi <br>      (반드시 함수 이름을 bmi로 작성할것!!)\n",
        "\n",
        "* 예1) \n",
        "   * 입력(정수-체중{kg}, 실수-키{m}) : 70, 1.81 <br>\n",
        "   * 반환(문자열) : 정상\n",
        "\n",
        "   * 함수 입력 \n",
        "       ```\n",
        "       bmi(70, 1.81)\n",
        "\n",
        "       ```\n",
        "   * 함수 반환\n",
        "       ```\n",
        "       정상\n",
        "\n",
        "       ```\n",
        "\n",
        "* 예2) \n",
        "   * 입력(정수-체중{kg}, 실수-키{m}) : 90, 1.81 <br>\n",
        "   * 반환(문자열) : 과체중\n",
        "\n",
        "   * 함수 입력 \n",
        "       ```\n",
        "       bmi(90, 1.81)\n",
        "\n",
        "       ```\n",
        "   * 함수 반환\n",
        "       ```\n",
        "       과체중\n",
        "       \n",
        "       ```\n",
        "\n",
        "\n",
        "\n",
        "\n",
        "\n",
        "* 함수 작성 가이드 <br>\n",
        "\n",
        "\n",
        "\n",
        "```\n",
        "def bmi(a, b):\n",
        "    c = a와 b를 계산한 bmi 범주 \n",
        "    return c\n",
        "```\n",
        "\n",
        "\n",
        "\n"
      ]
    },
    {
      "cell_type": "code",
      "execution_count": null,
      "metadata": {
        "id": "kX9xY63-5j5p"
      },
      "outputs": [],
      "source": [
        "###### 레포트 문제 답안 작성 셀 ######\n",
input(def bmi(weight, height):
    bmi_value = weight / (height * height)
    if bmi_value < 18.5:
        return "저체중"
    elif bmi_value <= 22.9:
        return "정상"
    else:
        return "과체중")










        "\n",
        "\n"
      ]
    }
  ],
  "metadata": {
    "colab": {
      "collapsed_sections": [],
      "name": "python-final.ipynb",
      "provenance": []
    },
    "kernelspec": {
      "display_name": "Python 3.11.0 64-bit",
      "language": "python",
      "name": "python3"
    },
    "language_info": {
      "name": "python",
      "version": "3.11.0"
    },
    "vscode": {
      "interpreter": {
        "hash": "8f68934aaadf252ba4c43f19c88a5784bee5ad2b0cdf19a1e6c1a589806c5926"
      }
    }
  },
  "nbformat": 4,
  "nbformat_minor": 0
}
